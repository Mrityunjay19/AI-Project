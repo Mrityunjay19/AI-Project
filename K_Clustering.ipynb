{
  "nbformat": 4,
  "nbformat_minor": 0,
  "metadata": {
    "colab": {
      "name": "K Clustering.ipynb",
      "provenance": []
    },
    "kernelspec": {
      "name": "python3",
      "display_name": "Python 3"
    },
    "language_info": {
      "name": "python"
    }
  },
  "cells": [
    {
      "cell_type": "code",
      "metadata": {
        "id": "j3mFCUad9zDL"
      },
      "source": [
        "#imports\n",
        "\n",
        "from sklearn import datasets\n",
        "import matplotlib.pyplot as plt\n",
        "import pandas as pd\n",
        "import numpy as np\n",
        "from sklearn.cluster import KMeans\n",
        "from sklearn.preprocessing import MinMaxScaler"
      ],
      "execution_count": 6,
      "outputs": []
    },
    {
      "cell_type": "code",
      "metadata": {
        "id": "TfqzwjfX-rKR",
        "colab": {
          "base_uri": "https://localhost:8080/",
          "height": 424
        },
        "outputId": "80ed21e5-a806-4a6d-80b2-7cc56662f568"
      },
      "source": [
        "#Extracting Data from CSV\n",
        "\n",
        "dataset = pd.read_csv('data.csv')\n",
        "y=dataset['Label']\n",
        "y=y.to_numpy()\n",
        "dataset\n"
      ],
      "execution_count": 7,
      "outputs": [
        {
          "output_type": "execute_result",
          "data": {
            "text/plain": [
              "     View Count  Subscriber Count  Video Count  Date of Registration  \\\n",
              "0     133962582           1250000           34                   112   \n",
              "1          2350                56           16                    90   \n",
              "2         11267               460           14                   112   \n",
              "3         34234               564           15                   111   \n",
              "4         14682               455           20                   112   \n",
              "..          ...               ...          ...                   ...   \n",
              "185        2434                43           51                   615   \n",
              "186        5570               380           24                  1913   \n",
              "187      151871              1300            7                   649   \n",
              "188     5460077             12600           82                  1750   \n",
              "189        2827              1530            3                   307   \n",
              "\n",
              "     Likes-Dislikes Ratio  Authenticity of Featured Channels  Label  \n",
              "0                   60.55                                  3      1  \n",
              "1                    0.87                                  0      0  \n",
              "2                    0.50                                  0      0  \n",
              "3                    0.33                                  0      0  \n",
              "4                    0.45                                  0      0  \n",
              "..                    ...                                ...    ...  \n",
              "185                 15.30                                  0      1  \n",
              "186                 16.34                                  0      1  \n",
              "187                  7.24                                  0      0  \n",
              "188                  8.54                                  0      0  \n",
              "189                  9.46                                  0      1  \n",
              "\n",
              "[190 rows x 7 columns]"
            ],
            "text/html": [
              "\n",
              "  <div id=\"df-edf52bf3-ba21-4308-b651-a39cc2704632\">\n",
              "    <div class=\"colab-df-container\">\n",
              "      <div>\n",
              "<style scoped>\n",
              "    .dataframe tbody tr th:only-of-type {\n",
              "        vertical-align: middle;\n",
              "    }\n",
              "\n",
              "    .dataframe tbody tr th {\n",
              "        vertical-align: top;\n",
              "    }\n",
              "\n",
              "    .dataframe thead th {\n",
              "        text-align: right;\n",
              "    }\n",
              "</style>\n",
              "<table border=\"1\" class=\"dataframe\">\n",
              "  <thead>\n",
              "    <tr style=\"text-align: right;\">\n",
              "      <th></th>\n",
              "      <th>View Count</th>\n",
              "      <th>Subscriber Count</th>\n",
              "      <th>Video Count</th>\n",
              "      <th>Date of Registration</th>\n",
              "      <th>Likes-Dislikes Ratio</th>\n",
              "      <th>Authenticity of Featured Channels</th>\n",
              "      <th>Label</th>\n",
              "    </tr>\n",
              "  </thead>\n",
              "  <tbody>\n",
              "    <tr>\n",
              "      <th>0</th>\n",
              "      <td>133962582</td>\n",
              "      <td>1250000</td>\n",
              "      <td>34</td>\n",
              "      <td>112</td>\n",
              "      <td>60.55</td>\n",
              "      <td>3</td>\n",
              "      <td>1</td>\n",
              "    </tr>\n",
              "    <tr>\n",
              "      <th>1</th>\n",
              "      <td>2350</td>\n",
              "      <td>56</td>\n",
              "      <td>16</td>\n",
              "      <td>90</td>\n",
              "      <td>0.87</td>\n",
              "      <td>0</td>\n",
              "      <td>0</td>\n",
              "    </tr>\n",
              "    <tr>\n",
              "      <th>2</th>\n",
              "      <td>11267</td>\n",
              "      <td>460</td>\n",
              "      <td>14</td>\n",
              "      <td>112</td>\n",
              "      <td>0.50</td>\n",
              "      <td>0</td>\n",
              "      <td>0</td>\n",
              "    </tr>\n",
              "    <tr>\n",
              "      <th>3</th>\n",
              "      <td>34234</td>\n",
              "      <td>564</td>\n",
              "      <td>15</td>\n",
              "      <td>111</td>\n",
              "      <td>0.33</td>\n",
              "      <td>0</td>\n",
              "      <td>0</td>\n",
              "    </tr>\n",
              "    <tr>\n",
              "      <th>4</th>\n",
              "      <td>14682</td>\n",
              "      <td>455</td>\n",
              "      <td>20</td>\n",
              "      <td>112</td>\n",
              "      <td>0.45</td>\n",
              "      <td>0</td>\n",
              "      <td>0</td>\n",
              "    </tr>\n",
              "    <tr>\n",
              "      <th>...</th>\n",
              "      <td>...</td>\n",
              "      <td>...</td>\n",
              "      <td>...</td>\n",
              "      <td>...</td>\n",
              "      <td>...</td>\n",
              "      <td>...</td>\n",
              "      <td>...</td>\n",
              "    </tr>\n",
              "    <tr>\n",
              "      <th>185</th>\n",
              "      <td>2434</td>\n",
              "      <td>43</td>\n",
              "      <td>51</td>\n",
              "      <td>615</td>\n",
              "      <td>15.30</td>\n",
              "      <td>0</td>\n",
              "      <td>1</td>\n",
              "    </tr>\n",
              "    <tr>\n",
              "      <th>186</th>\n",
              "      <td>5570</td>\n",
              "      <td>380</td>\n",
              "      <td>24</td>\n",
              "      <td>1913</td>\n",
              "      <td>16.34</td>\n",
              "      <td>0</td>\n",
              "      <td>1</td>\n",
              "    </tr>\n",
              "    <tr>\n",
              "      <th>187</th>\n",
              "      <td>151871</td>\n",
              "      <td>1300</td>\n",
              "      <td>7</td>\n",
              "      <td>649</td>\n",
              "      <td>7.24</td>\n",
              "      <td>0</td>\n",
              "      <td>0</td>\n",
              "    </tr>\n",
              "    <tr>\n",
              "      <th>188</th>\n",
              "      <td>5460077</td>\n",
              "      <td>12600</td>\n",
              "      <td>82</td>\n",
              "      <td>1750</td>\n",
              "      <td>8.54</td>\n",
              "      <td>0</td>\n",
              "      <td>0</td>\n",
              "    </tr>\n",
              "    <tr>\n",
              "      <th>189</th>\n",
              "      <td>2827</td>\n",
              "      <td>1530</td>\n",
              "      <td>3</td>\n",
              "      <td>307</td>\n",
              "      <td>9.46</td>\n",
              "      <td>0</td>\n",
              "      <td>1</td>\n",
              "    </tr>\n",
              "  </tbody>\n",
              "</table>\n",
              "<p>190 rows × 7 columns</p>\n",
              "</div>\n",
              "      <button class=\"colab-df-convert\" onclick=\"convertToInteractive('df-edf52bf3-ba21-4308-b651-a39cc2704632')\"\n",
              "              title=\"Convert this dataframe to an interactive table.\"\n",
              "              style=\"display:none;\">\n",
              "        \n",
              "  <svg xmlns=\"http://www.w3.org/2000/svg\" height=\"24px\"viewBox=\"0 0 24 24\"\n",
              "       width=\"24px\">\n",
              "    <path d=\"M0 0h24v24H0V0z\" fill=\"none\"/>\n",
              "    <path d=\"M18.56 5.44l.94 2.06.94-2.06 2.06-.94-2.06-.94-.94-2.06-.94 2.06-2.06.94zm-11 1L8.5 8.5l.94-2.06 2.06-.94-2.06-.94L8.5 2.5l-.94 2.06-2.06.94zm10 10l.94 2.06.94-2.06 2.06-.94-2.06-.94-.94-2.06-.94 2.06-2.06.94z\"/><path d=\"M17.41 7.96l-1.37-1.37c-.4-.4-.92-.59-1.43-.59-.52 0-1.04.2-1.43.59L10.3 9.45l-7.72 7.72c-.78.78-.78 2.05 0 2.83L4 21.41c.39.39.9.59 1.41.59.51 0 1.02-.2 1.41-.59l7.78-7.78 2.81-2.81c.8-.78.8-2.07 0-2.86zM5.41 20L4 18.59l7.72-7.72 1.47 1.35L5.41 20z\"/>\n",
              "  </svg>\n",
              "      </button>\n",
              "      \n",
              "  <style>\n",
              "    .colab-df-container {\n",
              "      display:flex;\n",
              "      flex-wrap:wrap;\n",
              "      gap: 12px;\n",
              "    }\n",
              "\n",
              "    .colab-df-convert {\n",
              "      background-color: #E8F0FE;\n",
              "      border: none;\n",
              "      border-radius: 50%;\n",
              "      cursor: pointer;\n",
              "      display: none;\n",
              "      fill: #1967D2;\n",
              "      height: 32px;\n",
              "      padding: 0 0 0 0;\n",
              "      width: 32px;\n",
              "    }\n",
              "\n",
              "    .colab-df-convert:hover {\n",
              "      background-color: #E2EBFA;\n",
              "      box-shadow: 0px 1px 2px rgba(60, 64, 67, 0.3), 0px 1px 3px 1px rgba(60, 64, 67, 0.15);\n",
              "      fill: #174EA6;\n",
              "    }\n",
              "\n",
              "    [theme=dark] .colab-df-convert {\n",
              "      background-color: #3B4455;\n",
              "      fill: #D2E3FC;\n",
              "    }\n",
              "\n",
              "    [theme=dark] .colab-df-convert:hover {\n",
              "      background-color: #434B5C;\n",
              "      box-shadow: 0px 1px 3px 1px rgba(0, 0, 0, 0.15);\n",
              "      filter: drop-shadow(0px 1px 2px rgba(0, 0, 0, 0.3));\n",
              "      fill: #FFFFFF;\n",
              "    }\n",
              "  </style>\n",
              "\n",
              "      <script>\n",
              "        const buttonEl =\n",
              "          document.querySelector('#df-edf52bf3-ba21-4308-b651-a39cc2704632 button.colab-df-convert');\n",
              "        buttonEl.style.display =\n",
              "          google.colab.kernel.accessAllowed ? 'block' : 'none';\n",
              "\n",
              "        async function convertToInteractive(key) {\n",
              "          const element = document.querySelector('#df-edf52bf3-ba21-4308-b651-a39cc2704632');\n",
              "          const dataTable =\n",
              "            await google.colab.kernel.invokeFunction('convertToInteractive',\n",
              "                                                     [key], {});\n",
              "          if (!dataTable) return;\n",
              "\n",
              "          const docLinkHtml = 'Like what you see? Visit the ' +\n",
              "            '<a target=\"_blank\" href=https://colab.research.google.com/notebooks/data_table.ipynb>data table notebook</a>'\n",
              "            + ' to learn more about interactive tables.';\n",
              "          element.innerHTML = '';\n",
              "          dataTable['output_type'] = 'display_data';\n",
              "          await google.colab.output.renderOutput(dataTable, element);\n",
              "          const docLink = document.createElement('div');\n",
              "          docLink.innerHTML = docLinkHtml;\n",
              "          element.appendChild(docLink);\n",
              "        }\n",
              "      </script>\n",
              "    </div>\n",
              "  </div>\n",
              "  "
            ]
          },
          "metadata": {},
          "execution_count": 7
        }
      ]
    },
    {
      "cell_type": "code",
      "metadata": {
        "id": "wNRecSI6-rUC",
        "colab": {
          "base_uri": "https://localhost:8080/"
        },
        "outputId": "4e83642f-b4b8-49ba-aa7a-b97e940941ea"
      },
      "source": [
        "y"
      ],
      "execution_count": 8,
      "outputs": [
        {
          "output_type": "execute_result",
          "data": {
            "text/plain": [
              "array([1, 0, 0, 0, 0, 0, 0, 0, 0, 0, 0, 0, 0, 0, 0, 0, 0, 0, 0, 0, 1, 0,\n",
              "       0, 0, 0, 0, 0, 0, 0, 0, 0, 0, 0, 0, 0, 0, 0, 0, 0, 0, 1, 0, 0, 0,\n",
              "       0, 0, 0, 0, 0, 0, 0, 0, 0, 0, 0, 0, 0, 0, 0, 0, 1, 0, 0, 0, 0, 0,\n",
              "       0, 0, 0, 0, 0, 0, 0, 0, 0, 0, 0, 0, 0, 0, 1, 0, 0, 0, 0, 0, 0, 0,\n",
              "       0, 0, 0, 0, 0, 0, 0, 0, 0, 0, 0, 0, 1, 0, 0, 0, 0, 0, 0, 0, 0, 0,\n",
              "       0, 0, 0, 0, 0, 0, 0, 0, 0, 0, 1, 1, 1, 1, 1, 1, 1, 1, 1, 1, 1, 1,\n",
              "       1, 1, 1, 1, 1, 1, 1, 1, 0, 0, 0, 0, 0, 0, 0, 0, 0, 0, 0, 0, 0, 0,\n",
              "       0, 0, 0, 0, 0, 0, 0, 0, 0, 0, 0, 0, 0, 0, 0, 0, 0, 0, 0, 0, 0, 0,\n",
              "       0, 0, 0, 0, 1, 0, 0, 0, 0, 1, 1, 0, 0, 1])"
            ]
          },
          "metadata": {},
          "execution_count": 8
        }
      ]
    },
    {
      "cell_type": "code",
      "metadata": {
        "id": "6NtlJSHO-rZa",
        "colab": {
          "base_uri": "https://localhost:8080/"
        },
        "outputId": "9e1ed59c-a9ca-4ad9-d764-112fd446844c"
      },
      "source": [
        "dataset.drop('Label',axis=1,inplace=True)  # Drop Label Column\n",
        "dataset=dataset.to_numpy()\n",
        "dataset"
      ],
      "execution_count": 9,
      "outputs": [
        {
          "output_type": "execute_result",
          "data": {
            "text/plain": [
              "array([[1.33962582e+08, 1.25000000e+06, 3.40000000e+01, 1.12000000e+02,\n",
              "        6.05500000e+01, 3.00000000e+00],\n",
              "       [2.35000000e+03, 5.60000000e+01, 1.60000000e+01, 9.00000000e+01,\n",
              "        8.70000000e-01, 0.00000000e+00],\n",
              "       [1.12670000e+04, 4.60000000e+02, 1.40000000e+01, 1.12000000e+02,\n",
              "        5.00000000e-01, 0.00000000e+00],\n",
              "       ...,\n",
              "       [1.51871000e+05, 1.30000000e+03, 7.00000000e+00, 6.49000000e+02,\n",
              "        7.24000000e+00, 0.00000000e+00],\n",
              "       [5.46007700e+06, 1.26000000e+04, 8.20000000e+01, 1.75000000e+03,\n",
              "        8.54000000e+00, 0.00000000e+00],\n",
              "       [2.82700000e+03, 1.53000000e+03, 3.00000000e+00, 3.07000000e+02,\n",
              "        9.46000000e+00, 0.00000000e+00]])"
            ]
          },
          "metadata": {},
          "execution_count": 9
        }
      ]
    },
    {
      "cell_type": "code",
      "metadata": {
        "id": "jKk5xnIi-rcV"
      },
      "source": [
        "#Max and Min for every column in an array\n",
        "\n",
        "max_attribute=[]\n",
        "min_attribute=[]\n",
        "\n",
        "for i in range(6):\n",
        "    maxx=0\n",
        "    minn=1000000\n",
        "    for k in range(190):\n",
        "        if(dataset[k][i]>maxx):\n",
        "            maxx=dataset[k][i]\n",
        "        if(dataset[k][i]<minn):\n",
        "            minn=dataset[k][i]\n",
        "    max_attribute.append(maxx)\n",
        "    min_attribute.append(minn)"
      ],
      "execution_count": 10,
      "outputs": []
    },
    {
      "cell_type": "code",
      "metadata": {
        "id": "V3ZwQvUw-rfC",
        "colab": {
          "base_uri": "https://localhost:8080/"
        },
        "outputId": "a25a9912-8841-4d22-e6e2-8d12b07c4976"
      },
      "source": [
        "print(max_attribute)\n",
        "print(min_attribute)"
      ],
      "execution_count": 11,
      "outputs": [
        {
          "output_type": "stream",
          "name": "stdout",
          "text": [
            "[68778855387.0, 94188956.0, 43599.0, 5614.0, 86.36, 10.0]\n",
            "[0.0, 0.0, 0.0, 30.0, 0.0, 0.0]\n"
          ]
        }
      ]
    },
    {
      "cell_type": "code",
      "metadata": {
        "id": "1IO23jOq-riC",
        "colab": {
          "base_uri": "https://localhost:8080/"
        },
        "outputId": "786c1106-70bb-4aa3-ff4d-203fd4ef1007"
      },
      "source": [
        "for i in range(6):\n",
        "    for k in range(190):\n",
        "        dataset[k][i]=(dataset[k][i]-min_attribute[i])/(max_attribute[i]-min_attribute[i])\n",
        "\n",
        "dataset"
      ],
      "execution_count": 12,
      "outputs": [
        {
          "output_type": "execute_result",
          "data": {
            "text/plain": [
              "array([[1.94772916e-03, 1.32711950e-02, 7.79834400e-04, 1.46848138e-02,\n",
              "        7.01134785e-01, 3.00000000e-01],\n",
              "       [3.41674776e-08, 5.94549535e-07, 3.66980894e-04, 1.07449857e-02,\n",
              "        1.00741084e-02, 0.00000000e+00],\n",
              "       [1.63814881e-07, 4.88379975e-06, 3.21108282e-04, 1.46848138e-02,\n",
              "        5.78971746e-03, 0.00000000e+00],\n",
              "       ...,\n",
              "       [2.20810595e-06, 1.38020428e-05, 1.60554141e-04, 1.10852436e-01,\n",
              "        8.38351088e-02, 0.00000000e+00],\n",
              "       [7.93859824e-05, 1.33773645e-04, 1.88077708e-03, 3.08022923e-01,\n",
              "        9.88883742e-02, 0.00000000e+00],\n",
              "       [4.11027486e-08, 1.62439427e-05, 6.88089176e-05, 4.96060172e-02,\n",
              "        1.09541454e-01, 0.00000000e+00]])"
            ]
          },
          "metadata": {},
          "execution_count": 12
        }
      ]
    },
    {
      "cell_type": "code",
      "metadata": {
        "id": "a3V8FKUV-sPb"
      },
      "source": [
        "part1=dataset[:, :3]  # First 3\n",
        "part2=dataset[:, 3:6] # last 3\n",
        "\n",
        "#part1\n",
        "#part2"
      ],
      "execution_count": 13,
      "outputs": []
    },
    {
      "cell_type": "code",
      "metadata": {
        "id": "A6TxYuD9-sSC",
        "colab": {
          "base_uri": "https://localhost:8080/"
        },
        "outputId": "f074fea2-95d4-45bf-98bf-e16902d99568"
      },
      "source": [
        "X=np.zeros((190,2))\n",
        "for i in range(190):\n",
        "    if(y[i]==1):\n",
        "        X[i][0]=(part1[i][0]+part1[i][1]+part1[i][2])/3\n",
        "        X[i][1]=(part2[i][0]+part2[i][1]+part2[i][2])/3\n",
        "    else:\n",
        "        X[i][0]=100*(part1[i][0]+part1[i][1]+part1[i][2])/3\n",
        "        X[i][1]=(part2[i][0]+part2[i][1]+part2[i][2])/3\n",
        "X"
      ],
      "execution_count": 14,
      "outputs": [
        {
          "output_type": "execute_result",
          "data": {
            "text/plain": [
              "array([[5.33291951e-03, 3.38606533e-01],\n",
              "       [1.22536537e-02, 6.93969802e-03],\n",
              "       [1.08718632e-02, 6.82484374e-03],\n",
              "       [1.16843431e-02, 6.10898139e-03],\n",
              "       [1.54590100e-02, 6.63185316e-03],\n",
              "       [1.16332237e-02, 5.45234338e-03],\n",
              "       [1.08244575e-02, 8.69099078e-03],\n",
              "       [1.16340210e-02, 8.57566646e-03],\n",
              "       [1.77143068e-02, 8.63536083e-03],\n",
              "       [1.53235825e-03, 5.45234338e-03],\n",
              "       [7.64548376e-04, 4.83524355e-03],\n",
              "       [7.70604876e-04, 5.51156771e-03],\n",
              "       [7.65264896e-04, 4.83524355e-03],\n",
              "       [1.53229880e-03, 5.60314147e-03],\n",
              "       [1.53122111e-03, 5.25216404e-03],\n",
              "       [7.64559038e-04, 5.78269460e-03],\n",
              "       [7.64905182e-04, 4.83524355e-03],\n",
              "       [7.64757565e-03, 9.11963447e-03],\n",
              "       [3.82769393e-03, 8.36517401e-03],\n",
              "       [4.58835001e-03, 5.90880205e-03],\n",
              "       [1.03792230e-01, 3.77148875e-01],\n",
              "       [9.18816435e-03, 9.64250624e-03],\n",
              "       [3.83701898e-03, 1.27547420e-02],\n",
              "       [1.76211004e-02, 8.79475778e-03],\n",
              "       [4.59189045e-03, 5.23997079e-03],\n",
              "       [9.18695823e-03, 7.37818479e-03],\n",
              "       [3.06243641e-03, 9.81080619e-03],\n",
              "       [7.64548376e-04, 2.55513448e-03],\n",
              "       [7.65262473e-04, 8.31001410e-03],\n",
              "       [1.53157307e-03, 5.70361823e-03],\n",
              "       [7.65257142e-04, 3.85981164e-03],\n",
              "       [2.29861618e-03, 1.13566110e-02],\n",
              "       [2.29434178e-03, 5.31185840e-03],\n",
              "       [1.15269031e-02, 3.50260488e-02],\n",
              "       [1.07189322e-02, 1.59912052e-02],\n",
              "       [7.64550314e-04, 6.20821394e-03],\n",
              "       [1.93858029e-09, 3.64135626e-03],\n",
              "       [3.05925084e-03, 6.57840748e-03],\n",
              "       [3.82592987e-03, 1.35899931e-02],\n",
              "       [2.29434759e-03, 7.18784852e-03],\n",
              "       [9.02717335e-02, 7.18853095e-01],\n",
              "       [7.66791501e-03, 2.03457694e-02],\n",
              "       [4.60494619e-03, 1.19984014e-02],\n",
              "       [4.59864263e-03, 2.83196537e-02],\n",
              "       [3.83090045e-03, 8.01873104e-03],\n",
              "       [3.06281115e-03, 1.02557075e-02],\n",
              "       [1.53015505e-03, 8.59128819e-03],\n",
              "       [7.65257142e-04, 5.30466964e-03],\n",
              "       [2.29541123e-03, 9.02228206e-03],\n",
              "       [1.53160118e-03, 7.55007912e-03],\n",
              "       [7.65257627e-04, 2.20869150e-03],\n",
              "       [7.64900820e-04, 7.28271251e-03],\n",
              "       [7.64544014e-04, 2.20869150e-03],\n",
              "       [7.65259565e-04, 4.78804657e-03],\n",
              "       [1.53087206e-03, 9.47968080e-03],\n",
              "       [2.29576319e-03, 5.50031454e-03],\n",
              "       [7.64898882e-04, 6.92360625e-03],\n",
              "       [7.65610071e-04, 6.44198692e-03],\n",
              "       [7.64898882e-04, 2.66686441e-03],\n",
              "       [1.53086576e-03, 6.36432065e-03],\n",
              "       [3.71128547e-02, 3.78276101e-01],\n",
              "       [2.37182633e-02, 2.65966459e-02],\n",
              "       [9.94516697e-03, 1.39284732e-02],\n",
              "       [1.37657835e-02, 1.06448131e-02],\n",
              "       [1.07068541e-02, 7.38365930e-03],\n",
              "       [9.94336646e-03, 5.70815267e-03],\n",
              "       [2.59966305e-02, 8.60348144e-03],\n",
              "       [9.17630638e-03, 6.21399260e-03],\n",
              "       [1.53050750e-03, 7.26692489e-03],\n",
              "       [1.45305952e-02, 1.01725668e-02],\n",
              "       [2.29363398e-03, 1.26550395e-02],\n",
              "       [4.58975494e-03, 8.61691889e-03],\n",
              "       [5.35324647e-03, 4.06499547e-03],\n",
              "       [7.64549345e-04, 1.34113801e-02],\n",
              "       [1.52944435e-03, 1.07184149e-02],\n",
              "       [3.82378661e-03, 1.03405626e-02],\n",
              "       [1.52979922e-03, 1.49742167e-02],\n",
              "       [7.64544499e-04, 3.73558432e-03],\n",
              "       [7.64544983e-04, 4.53583166e-03],\n",
              "       [7.64545468e-04, 5.39264902e-03],\n",
              "       [4.43086344e-02, 5.84383954e-01],\n",
              "       [2.68330757e-02, 3.16628422e-02],\n",
              "       [3.07382287e-02, 4.66647080e-02],\n",
              "       [2.83653427e-02, 3.07538234e-02],\n",
              "       [9.18163182e-03, 1.68847405e-02],\n",
              "       [2.45185937e-02, 1.45655633e-02],\n",
              "       [1.38124743e-02, 3.62780544e-02],\n",
              "       [1.76458675e-02, 2.17627848e-02],\n",
              "       [7.65186508e-03, 1.79606492e-02],\n",
              "       [5.27758486e-02, 4.07540258e-02],\n",
              "       [2.29540832e-03, 7.19144290e-03],\n",
              "       [2.90734509e-02, 2.87989228e-02],\n",
              "       [2.83143339e-02, 4.48995078e-02],\n",
              "       [3.21283600e-02, 4.23262355e-02],\n",
              "       [7.64758582e-03, 1.06474674e-02],\n",
              "       [4.58868162e-03, 4.29439602e-02],\n",
              "       [6.88267046e-03, 1.22681182e-02],\n",
              "       [2.29398642e-03, 4.29970851e-03],\n",
              "       [5.35940378e-03, 3.66240274e-02],\n",
              "       [6.12314646e-03, 3.71558298e-02],\n",
              "       [1.06157886e-01, 3.24349113e-01],\n",
              "       [9.94436930e-03, 6.38455978e-02],\n",
              "       [1.30048947e-02, 4.47940265e-02],\n",
              "       [1.83715210e-02, 4.65265732e-02],\n",
              "       [5.96653185e-02, 7.54597323e-02],\n",
              "       [2.67666997e-02, 2.78869456e-02],\n",
              "       [3.21190837e-02, 2.55004152e-02],\n",
              "       [4.58868501e-03, 1.45997928e-02],\n",
              "       [2.60031849e-02, 5.21934734e-02],\n",
              "       [7.49501170e-02, 7.26573874e-02],\n",
              "       [2.29578257e-03, 4.12947312e-02],\n",
              "       [7.65963970e-04, 1.48974905e-02],\n",
              "       [2.52477967e-02, 4.28305271e-02],\n",
              "       [3.97648786e-02, 2.24631913e-02],\n",
              "       [3.06136647e-03, 1.93954982e-02],\n",
              "       [3.21386436e-02, 5.46871993e-02],\n",
              "       [4.97093752e-02, 5.47629854e-02],\n",
              "       [4.13010248e-02, 1.80012657e-02],\n",
              "       [4.12871288e-02, 4.52817286e-03],\n",
              "       [2.29434275e-03, 6.10898139e-03],\n",
              "       [8.42943381e-02, 4.16680978e-01],\n",
              "       [2.43702466e-02, 3.49227966e-01],\n",
              "       [3.18847421e-02, 5.96863621e-01],\n",
              "       [4.52382318e-02, 4.47824830e-01],\n",
              "       [2.21172290e-02, 3.32667477e-01],\n",
              "       [3.81264180e-03, 4.58006693e-01],\n",
              "       [1.81852431e-03, 5.35209075e-01],\n",
              "       [1.21221455e-01, 6.82615408e-01],\n",
              "       [1.21741148e-02, 5.01262568e-01],\n",
              "       [1.62458212e-01, 7.46514612e-01],\n",
              "       [2.11030846e-02, 5.55691569e-01],\n",
              "       [2.84030808e-03, 2.77241494e-01],\n",
              "       [1.28959320e-02, 5.98245799e-01],\n",
              "       [2.46719849e-02, 6.16456794e-01],\n",
              "       [2.61713578e-02, 3.15494633e-01],\n",
              "       [9.73458594e-01, 8.96807493e-01],\n",
              "       [4.12518906e-01, 6.81727790e-01],\n",
              "       [4.33760041e-02, 5.66867902e-01],\n",
              "       [2.43087206e-01, 8.93426979e-01],\n",
              "       [1.06076473e-02, 3.45991901e-01],\n",
              "       [2.45000866e-02, 1.38373694e-02],\n",
              "       [1.07353011e-02, 1.75340239e-02],\n",
              "       [5.35662057e-03, 4.47896580e-02],\n",
              "       [7.65259651e-03, 2.96877578e-02],\n",
              "       [1.07120568e-02, 3.19678669e-02],\n",
              "       [6.11959293e-03, 1.50081145e-02],\n",
              "       [1.53065889e-02, 3.46628781e-02],\n",
              "       [2.21805205e-02, 4.46305652e-02],\n",
              "       [1.45425300e-02, 2.15779231e-02],\n",
              "       [1.75967591e-02, 2.21740925e-02],\n",
              "       [2.29434129e-03, 1.91527946e-02],\n",
              "       [2.14221704e-02, 3.00152888e-02],\n",
              "       [7.64685767e-03, 2.58084259e-02],\n",
              "       [3.05888579e-03, 2.58382593e-02],\n",
              "       [7.65784355e-03, 3.22721174e-02],\n",
              "       [2.44963677e-02, 3.31967579e-02],\n",
              "       [1.45366173e-02, 1.51234388e-02],\n",
              "       [1.83576517e-02, 4.32755667e-02],\n",
              "       [3.28916830e-02, 2.90881875e-02],\n",
              "       [1.22435107e-02, 1.90102912e-02],\n",
              "       [1.07150709e-02, 1.79986114e-02],\n",
              "       [3.83891739e-03, 3.38771465e-02],\n",
              "       [2.52413048e-02, 2.83755878e-02],\n",
              "       [1.07068541e-02, 7.38365930e-03],\n",
              "       [9.94336646e-03, 5.70815267e-03],\n",
              "       [2.59966305e-02, 8.60348144e-03],\n",
              "       [9.17630638e-03, 6.21399260e-03],\n",
              "       [1.53050750e-03, 7.26692489e-03],\n",
              "       [1.45305952e-02, 1.01725668e-02],\n",
              "       [2.29363398e-03, 1.26550395e-02],\n",
              "       [4.58975494e-03, 8.61691889e-03],\n",
              "       [5.35324647e-03, 4.06499547e-03],\n",
              "       [7.64549345e-04, 1.34113801e-02],\n",
              "       [1.52944435e-03, 1.07184149e-02],\n",
              "       [1.76684451e-02, 3.88547552e-02],\n",
              "       [9.17843074e-03, 2.93606969e-02],\n",
              "       [2.29445614e-02, 2.60260795e-02],\n",
              "       [1.54042005e-03, 1.03547742e-02],\n",
              "       [1.68318476e-02, 2.48319157e-02],\n",
              "       [1.75998116e-02, 2.14762021e-02],\n",
              "       [5.82248818e-04, 1.48372846e-01],\n",
              "       [3.41429757e-02, 9.08088705e-02],\n",
              "       [5.03714771e-03, 4.19534982e-02],\n",
              "       [2.16231453e-02, 4.87642686e-02],\n",
              "       [3.48943953e-02, 3.33691500e-02],\n",
              "       [3.90081173e-04, 9.39763215e-02],\n",
              "       [1.84862256e-04, 1.75473811e-01],\n",
              "       [5.88547633e-03, 6.48958481e-02],\n",
              "       [6.97978903e-02, 1.35637099e-01],\n",
              "       [2.83646543e-05, 5.30491572e-02]])"
            ]
          },
          "metadata": {},
          "execution_count": 14
        }
      ]
    },
    {
      "cell_type": "code",
      "metadata": {
        "colab": {
          "base_uri": "https://localhost:8080/",
          "height": 304
        },
        "id": "cXRHfJWW_WZl",
        "outputId": "64e56bcf-cebf-4dc8-b75f-f1c95629173b"
      },
      "source": [
        "plt.scatter(X[:,0],X[:,1],c=y,cmap='gist_rainbow')\n",
        "plt.xlabel('A1', fontsize=18)\n",
        "plt.ylabel('A2', fontsize=18)"
      ],
      "execution_count": 15,
      "outputs": [
        {
          "output_type": "execute_result",
          "data": {
            "text/plain": [
              "Text(0, 0.5, 'A2')"
            ]
          },
          "metadata": {},
          "execution_count": 15
        },
        {
          "output_type": "display_data",
          "data": {
            "text/plain": [
              "<Figure size 432x288 with 1 Axes>"
            ],
            "image/png": "[encoded data removed]"
          },
          "metadata": {
            "needs_background": "light"
          }
        }
      ]
    },
    {
      "cell_type": "code",
      "metadata": {
        "id": "FsMl-Gr8_WcC"
      },
      "source": [
        "k=2\n",
        "color=[\"green\",\"red\"]\n",
        "clusters={}\n",
        "for i in range(k):\n",
        "    center=(np.random.random((X.shape[1],))-1)\n",
        "    points=[]\n",
        "    cluster={\n",
        "        'center':center,\n",
        "        'points':points,\n",
        "        'color':color[i]\n",
        "    }\n",
        "    clusters[i]=cluster"
      ],
      "execution_count": 16,
      "outputs": []
    },
    {
      "cell_type": "code",
      "metadata": {
        "id": "6vwzKINE_Wea"
      },
      "source": [
        "clusters[0]['center'][0]=0\n",
        "clusters[0]['center'][1]=0\n",
        "clusters[1]['center'][0]=0\n",
        "clusters[1]['center'][1]=0.6"
      ],
      "execution_count": 17,
      "outputs": []
    },
    {
      "cell_type": "code",
      "metadata": {
        "id": "gRkA1aTn_WhD"
      },
      "source": [
        "def distance(v1,v2):\n",
        "    return np.sqrt(np.sum((v1-v2)**2))"
      ],
      "execution_count": 18,
      "outputs": []
    },
    {
      "cell_type": "code",
      "metadata": {
        "id": "ooCe3c9ZBdag"
      },
      "source": [
        "def assignpointtoclusters(clusters):\n",
        "    for ix in range(X.shape[0]):\n",
        "        dist=[]\n",
        "        curr_x=X[ix]\n",
        "        for kx in range(k):\n",
        "            d=distance(curr_x,clusters[kx]['center'])\n",
        "            dist.append(d)\n",
        "        current_cluster=np.argmin(dist)\n",
        "        clusters[current_cluster]['points'].append(curr_x)\n",
        "\n",
        "def updateclusters(clusters):\n",
        "    for kx in range(k):\n",
        "        pts=np.array(clusters[kx]['points'])\n",
        "        if pts.shape[0]>0:\n",
        "            new_u=pts.mean(axis=0)\n",
        "            clusters[kx]['center']=new_u\n",
        "            clusters[kx]['points']=[]\n",
        "            \n",
        "def plotclusters(clusters):\n",
        "    for kx in range(k):\n",
        "        pts=np.array(clusters[kx]['points'])\n",
        "        try:\n",
        "            plt.scatter(pts[:,0],pts[:,1])\n",
        "        except:\n",
        "            pass\n",
        "        uk=clusters[kx]['center']\n",
        "        plt.scatter(uk[0],uk[1],color=\"black\",marker=\"^\")"
      ],
      "execution_count": 19,
      "outputs": []
    },
    {
      "cell_type": "code",
      "metadata": {
        "colab": {
          "base_uri": "https://localhost:8080/",
          "height": 265
        },
        "id": "zx2A5QerBdc6",
        "outputId": "ed6a3ffe-9ed3-47bc-ccc2-443857335aa7"
      },
      "source": [
        "assignpointtoclusters(clusters)\n",
        "plotclusters(clusters)\n",
        "updateclusters(clusters)"
      ],
      "execution_count": 20,
      "outputs": [
        {
          "output_type": "display_data",
          "data": {
            "text/plain": [
              "<Figure size 432x288 with 1 Axes>"
            ],
            "image/png": "[encoded data removed]"
          },
          "metadata": {
            "needs_background": "light"
          }
        }
      ]
    },
    {
      "cell_type": "code",
      "metadata": {
        "colab": {
          "base_uri": "https://localhost:8080/"
        },
        "id": "hJ9IsvWhBdfg",
        "outputId": "0e7d7ffb-90ea-428c-c8c3-9661e7813521"
      },
      "source": [
        "km = KMeans(n_clusters = 2)\n",
        "km.fit(X)"
      ],
      "execution_count": 21,
      "outputs": [
        {
          "output_type": "execute_result",
          "data": {
            "text/plain": [
              "KMeans(n_clusters=2)"
            ]
          },
          "metadata": {},
          "execution_count": 21
        }
      ]
    },
    {
      "cell_type": "code",
      "metadata": {
        "colab": {
          "base_uri": "https://localhost:8080/"
        },
        "id": "QYkq5CV6BdiM",
        "outputId": "4ed8b795-dc11-4c45-d8dc-6579dd77fe23"
      },
      "source": [
        "centers = km.cluster_centers_\n",
        "print(centers)"
      ],
      "execution_count": 22,
      "outputs": [
        {
          "output_type": "stream",
          "name": "stdout",
          "text": [
            "[[0.01153305 0.02373078]\n",
            " [0.10657027 0.53036807]]\n"
          ]
        }
      ]
    },
    {
      "cell_type": "code",
      "metadata": {
        "colab": {
          "base_uri": "https://localhost:8080/",
          "height": 530
        },
        "id": "cU4wx0mHBdkk",
        "outputId": "8498778b-a9d0-41c7-98c1-639315bd09c9"
      },
      "source": [
        "new_labels = km.labels_\n",
        "fig, axes = plt.subplots(1, 2, figsize=(16,8))\n",
        "axes[0].scatter(X[:, 0], X[:, 1], c=y, cmap='gist_rainbow',\n",
        "edgecolor='k', s=150)\n",
        "axes[1].scatter(X[:, 0], X[:, 1], c=new_labels, cmap='jet',\n",
        "edgecolor='k', s=150)\n",
        "axes[0].set_xlabel('A1', fontsize=18)\n",
        "axes[0].set_ylabel('A2', fontsize=18)\n",
        "axes[1].set_xlabel('A1', fontsize=18)\n",
        "axes[1].set_ylabel('A2', fontsize=18)\n",
        "axes[0].tick_params(direction='in', length=10, width=5, colors='k', labelsize=20)\n",
        "axes[1].tick_params(direction='in', length=10, width=5, colors='k', labelsize=20)\n",
        "axes[0].set_title('Actual', fontsize=18)\n",
        "axes[1].set_title('Predicted', fontsize=18)\n",
        "plt.scatter(centers[:,0], centers[:,1], marker=\"^\", color='r')\n",
        "plt.show()"
      ],
      "execution_count": 23,
      "outputs": [
        {
          "output_type": "display_data",
          "data": {
            "text/plain": [
              "<Figure size 1152x576 with 2 Axes>"
            ],
            "image/png": "[encoded data removed]"
          },
          "metadata": {
            "needs_background": "light"
          }
        }
      ]
    },
    {
      "cell_type": "code",
      "metadata": {
        "colab": {
          "base_uri": "https://localhost:8080/"
        },
        "id": "TD1bfyakBdnK",
        "outputId": "be3ad8b6-1b88-40fc-caae-f2f37a00d75b"
      },
      "source": [
        "from sklearn.metrics import accuracy_score\n",
        "acc=accuracy_score(y, km.labels_)\n",
        "print(\"Accuracy score is\", acc)"
      ],
      "execution_count": 24,
      "outputs": [
        {
          "output_type": "stream",
          "name": "stdout",
          "text": [
            "Accuracy score is 0.9736842105263158\n"
          ]
        }
      ]
    },
    {
      "cell_type": "code",
      "metadata": {
        "colab": {
          "base_uri": "https://localhost:8080/"
        },
        "id": "uUZjHEsD_Wjs",
        "outputId": "c1b07093-d1c3-41a9-e1b0-1ba71225f1ce"
      },
      "source": [
        "print(km.labels_)\n",
        "print(y)"
      ],
      "execution_count": 25,
      "outputs": [
        {
          "output_type": "stream",
          "name": "stdout",
          "text": [
            "[1 0 0 0 0 0 0 0 0 0 0 0 0 0 0 0 0 0 0 0 1 0 0 0 0 0 0 0 0 0 0 0 0 0 0 0 0\n",
            " 0 0 0 1 0 0 0 0 0 0 0 0 0 0 0 0 0 0 0 0 0 0 0 1 0 0 0 0 0 0 0 0 0 0 0 0 0\n",
            " 0 0 0 0 0 0 1 0 0 0 0 0 0 0 0 0 0 0 0 0 0 0 0 0 0 0 1 0 0 0 0 0 0 0 0 0 0\n",
            " 0 0 0 0 0 0 0 0 0 1 1 1 1 1 1 1 1 1 1 1 0 1 1 1 1 1 1 1 1 0 0 0 0 0 0 0 0\n",
            " 0 0 0 0 0 0 0 0 0 0 0 0 0 0 0 0 0 0 0 0 0 0 0 0 0 0 0 0 0 0 0 0 0 0 0 0 0\n",
            " 0 0 0 0 0]\n",
            "[1 0 0 0 0 0 0 0 0 0 0 0 0 0 0 0 0 0 0 0 1 0 0 0 0 0 0 0 0 0 0 0 0 0 0 0 0\n",
            " 0 0 0 1 0 0 0 0 0 0 0 0 0 0 0 0 0 0 0 0 0 0 0 1 0 0 0 0 0 0 0 0 0 0 0 0 0\n",
            " 0 0 0 0 0 0 1 0 0 0 0 0 0 0 0 0 0 0 0 0 0 0 0 0 0 0 1 0 0 0 0 0 0 0 0 0 0\n",
            " 0 0 0 0 0 0 0 0 0 1 1 1 1 1 1 1 1 1 1 1 1 1 1 1 1 1 1 1 1 0 0 0 0 0 0 0 0\n",
            " 0 0 0 0 0 0 0 0 0 0 0 0 0 0 0 0 0 0 0 0 0 0 0 0 0 0 0 0 0 0 0 0 1 0 0 0 0\n",
            " 1 1 0 0 1]\n"
          ]
        }
      ]
    },
    {
      "cell_type": "code",
      "metadata": {
        "colab": {
          "base_uri": "https://localhost:8080/"
        },
        "id": "C4DArPnw_Wma",
        "outputId": "c8c0119f-20d8-4275-c312-8ad7ede26949"
      },
      "source": [
        "centers = np.array(km.cluster_centers_)\n",
        "centers"
      ],
      "execution_count": 26,
      "outputs": [
        {
          "output_type": "execute_result",
          "data": {
            "text/plain": [
              "array([[0.01153305, 0.02373078],\n",
              "       [0.10657027, 0.53036807]])"
            ]
          },
          "metadata": {},
          "execution_count": 26
        }
      ]
    },
    {
      "cell_type": "code",
      "metadata": {
        "id": "sxAzgpM_CHPg"
      },
      "source": [
        "y_actual=pd.Series(y,name='ACTUAL')\n",
        "y_predicted=pd.Series(km.labels_,name='PREDICTED')"
      ],
      "execution_count": 27,
      "outputs": []
    },
    {
      "cell_type": "code",
      "metadata": {
        "colab": {
          "base_uri": "https://localhost:8080/",
          "height": 143
        },
        "id": "M9-lyULSCHR7",
        "outputId": "a57509a7-b1c3-4fcb-dc94-9402342c2c87"
      },
      "source": [
        "confusion_mat=pd.crosstab(y_predicted,y_actual)\n",
        "confusion_mat"
      ],
      "execution_count": 28,
      "outputs": [
        {
          "output_type": "execute_result",
          "data": {
            "text/plain": [
              "ACTUAL       0   1\n",
              "PREDICTED         \n",
              "0          160   5\n",
              "1            0  25"
            ],
            "text/html": [
              "\n",
              "  <div id=\"df-eac48fa3-4c45-4c6a-8d2f-96ce1c4af5e5\">\n",
              "    <div class=\"colab-df-container\">\n",
              "      <div>\n",
              "<style scoped>\n",
              "    .dataframe tbody tr th:only-of-type {\n",
              "        vertical-align: middle;\n",
              "    }\n",
              "\n",
              "    .dataframe tbody tr th {\n",
              "        vertical-align: top;\n",
              "    }\n",
              "\n",
              "    .dataframe thead th {\n",
              "        text-align: right;\n",
              "    }\n",
              "</style>\n",
              "<table border=\"1\" class=\"dataframe\">\n",
              "  <thead>\n",
              "    <tr style=\"text-align: right;\">\n",
              "      <th>ACTUAL</th>\n",
              "      <th>0</th>\n",
              "      <th>1</th>\n",
              "    </tr>\n",
              "    <tr>\n",
              "      <th>PREDICTED</th>\n",
              "      <th></th>\n",
              "      <th></th>\n",
              "    </tr>\n",
              "  </thead>\n",
              "  <tbody>\n",
              "    <tr>\n",
              "      <th>0</th>\n",
              "      <td>160</td>\n",
              "      <td>5</td>\n",
              "    </tr>\n",
              "    <tr>\n",
              "      <th>1</th>\n",
              "      <td>0</td>\n",
              "      <td>25</td>\n",
              "    </tr>\n",
              "  </tbody>\n",
              "</table>\n",
              "</div>\n",
              "      <button class=\"colab-df-convert\" onclick=\"convertToInteractive('df-eac48fa3-4c45-4c6a-8d2f-96ce1c4af5e5')\"\n",
              "              title=\"Convert this dataframe to an interactive table.\"\n",
              "              style=\"display:none;\">\n",
              "        \n",
              "  <svg xmlns=\"http://www.w3.org/2000/svg\" height=\"24px\"viewBox=\"0 0 24 24\"\n",
              "       width=\"24px\">\n",
              "    <path d=\"M0 0h24v24H0V0z\" fill=\"none\"/>\n",
              "    <path d=\"M18.56 5.44l.94 2.06.94-2.06 2.06-.94-2.06-.94-.94-2.06-.94 2.06-2.06.94zm-11 1L8.5 8.5l.94-2.06 2.06-.94-2.06-.94L8.5 2.5l-.94 2.06-2.06.94zm10 10l.94 2.06.94-2.06 2.06-.94-2.06-.94-.94-2.06-.94 2.06-2.06.94z\"/><path d=\"M17.41 7.96l-1.37-1.37c-.4-.4-.92-.59-1.43-.59-.52 0-1.04.2-1.43.59L10.3 9.45l-7.72 7.72c-.78.78-.78 2.05 0 2.83L4 21.41c.39.39.9.59 1.41.59.51 0 1.02-.2 1.41-.59l7.78-7.78 2.81-2.81c.8-.78.8-2.07 0-2.86zM5.41 20L4 18.59l7.72-7.72 1.47 1.35L5.41 20z\"/>\n",
              "  </svg>\n",
              "      </button>\n",
              "      \n",
              "  <style>\n",
              "    .colab-df-container {\n",
              "      display:flex;\n",
              "      flex-wrap:wrap;\n",
              "      gap: 12px;\n",
              "    }\n",
              "\n",
              "    .colab-df-convert {\n",
              "      background-color: #E8F0FE;\n",
              "      border: none;\n",
              "      border-radius: 50%;\n",
              "      cursor: pointer;\n",
              "      display: none;\n",
              "      fill: #1967D2;\n",
              "      height: 32px;\n",
              "      padding: 0 0 0 0;\n",
              "      width: 32px;\n",
              "    }\n",
              "\n",
              "    .colab-df-convert:hover {\n",
              "      background-color: #E2EBFA;\n",
              "      box-shadow: 0px 1px 2px rgba(60, 64, 67, 0.3), 0px 1px 3px 1px rgba(60, 64, 67, 0.15);\n",
              "      fill: #174EA6;\n",
              "    }\n",
              "\n",
              "    [theme=dark] .colab-df-convert {\n",
              "      background-color: #3B4455;\n",
              "      fill: #D2E3FC;\n",
              "    }\n",
              "\n",
              "    [theme=dark] .colab-df-convert:hover {\n",
              "      background-color: #434B5C;\n",
              "      box-shadow: 0px 1px 3px 1px rgba(0, 0, 0, 0.15);\n",
              "      filter: drop-shadow(0px 1px 2px rgba(0, 0, 0, 0.3));\n",
              "      fill: #FFFFFF;\n",
              "    }\n",
              "  </style>\n",
              "\n",
              "      <script>\n",
              "        const buttonEl =\n",
              "          document.querySelector('#df-eac48fa3-4c45-4c6a-8d2f-96ce1c4af5e5 button.colab-df-convert');\n",
              "        buttonEl.style.display =\n",
              "          google.colab.kernel.accessAllowed ? 'block' : 'none';\n",
              "\n",
              "        async function convertToInteractive(key) {\n",
              "          const element = document.querySelector('#df-eac48fa3-4c45-4c6a-8d2f-96ce1c4af5e5');\n",
              "          const dataTable =\n",
              "            await google.colab.kernel.invokeFunction('convertToInteractive',\n",
              "                                                     [key], {});\n",
              "          if (!dataTable) return;\n",
              "\n",
              "          const docLinkHtml = 'Like what you see? Visit the ' +\n",
              "            '<a target=\"_blank\" href=https://colab.research.google.com/notebooks/data_table.ipynb>data table notebook</a>'\n",
              "            + ' to learn more about interactive tables.';\n",
              "          element.innerHTML = '';\n",
              "          dataTable['output_type'] = 'display_data';\n",
              "          await google.colab.output.renderOutput(dataTable, element);\n",
              "          const docLink = document.createElement('div');\n",
              "          docLink.innerHTML = docLinkHtml;\n",
              "          element.appendChild(docLink);\n",
              "        }\n",
              "      </script>\n",
              "    </div>\n",
              "  </div>\n",
              "  "
            ]
          },
          "metadata": {},
          "execution_count": 28
        }
      ]
    },
    {
      "cell_type": "code",
      "metadata": {
        "id": "E9siY7-JCHUU"
      },
      "source": [
        "confusion_mat=confusion_mat.to_numpy()\n",
        "Total=confusion_mat[0][0]+confusion_mat[0][1]+confusion_mat[1][0]+confusion_mat[1][1]"
      ],
      "execution_count": 29,
      "outputs": []
    },
    {
      "cell_type": "code",
      "metadata": {
        "id": "ZZ4y55QdCHW5"
      },
      "source": [
        "Accuracy = (confusion_mat[0][0]+confusion_mat[1][1])/Total\n",
        "Recall = confusion_mat[0][0]/(confusion_mat[0][0]+confusion_mat[1][0])\n",
        "Precision = confusion_mat[0][0]/(confusion_mat[0][0]+confusion_mat[0][1])\n",
        "F_Measure = (2*Recall*Precision)/(Recall+Precision)\n",
        "False_Positive_Rate = confusion_mat[0][1]/(confusion_mat[0][0]+confusion_mat[0][1])\n",
        "True_Negative_Rate = confusion_mat[0][0]/(confusion_mat[0][0]+confusion_mat[0][1])\n",
        "Specificity = confusion_mat[0][0]/(confusion_mat[0][0]+confusion_mat[0][1])\n",
        "G_Measure = 2*Recall*(100-False_Positive_Rate)/(Recall+(100-False_Positive_Rate))\n",
        "G_Mean = (Specificity*Recall)**0.5\n",
        "a_positive = confusion_mat[1][1]/(confusion_mat[0][1]+confusion_mat[1][1])\n",
        "a_negative = confusion_mat[0][0]/(confusion_mat[0][0]+confusion_mat[1][0])\n",
        "G_Mean_2 = (a_positive*a_negative)**0.5\n",
        "Balance=1-(((0-False_Positive_Rate)**2+(1-Recall)**2)/2)**0.5"
      ],
      "execution_count": 30,
      "outputs": []
    },
    {
      "cell_type": "code",
      "metadata": {
        "colab": {
          "base_uri": "https://localhost:8080/"
        },
        "id": "H1ySqkV0CHZX",
        "outputId": "906f0538-7b13-4a17-d92f-11bdc2ddebcc"
      },
      "source": [
        "print(Accuracy)\n",
        "print(Recall)\n",
        "print(Precision)\n",
        "print(F_Measure)\n",
        "print(False_Positive_Rate)\n",
        "print(True_Negative_Rate)\n",
        "print(Specificity)\n",
        "print(G_Measure)\n",
        "print(G_Mean)\n",
        "print(a_positive)\n",
        "print(a_negative)\n",
        "print(G_Mean_2)\n",
        "print(Balance)"
      ],
      "execution_count": 31,
      "outputs": [
        {
          "output_type": "stream",
          "name": "stdout",
          "text": [
            "0.9736842105263158\n",
            "1.0\n",
            "0.9696969696969697\n",
            "0.9846153846153847\n",
            "0.030303030303030304\n",
            "0.9696969696969697\n",
            "0.9696969696969697\n",
            "1.9801920768307324\n",
            "0.9847319278346619\n",
            "0.8333333333333334\n",
            "1.0\n",
            "0.9128709291752769\n",
            "0.9785725217822259\n"
          ]
        }
      ]
    },
    {
      "cell_type": "code",
      "metadata": {
        "colab": {
          "base_uri": "https://localhost:8080/",
          "height": 390
        },
        "id": "_aXvcIrwCHb4",
        "outputId": "fb6cfd38-7441-44d5-a209-a3b7b4f87d58"
      },
      "source": [
        "sse = []\n",
        "list_k = list(range(1, 10))\n",
        "\n",
        "for k in list_k:\n",
        "    km = KMeans(n_clusters=k)\n",
        "    km.fit(X)\n",
        "    sse.append(km.inertia_)\n",
        "\n",
        "# Plot sse against k\n",
        "plt.figure(figsize=(6, 6))\n",
        "plt.plot(list_k, sse, '-o')\n",
        "plt.xlabel(r'Number of clusters *k*')\n",
        "plt.ylabel('Sum of squared distance');"
      ],
      "execution_count": 32,
      "outputs": [
        {
          "output_type": "display_data",
          "data": {
            "text/plain": [
              "<Figure size 432x432 with 1 Axes>"
            ],
            "image/png": "[encoded data removed]"
          },
          "metadata": {
            "needs_background": "light"
          }
        }
      ]
    }
  ]
}